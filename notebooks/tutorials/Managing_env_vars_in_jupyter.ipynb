{
  "nbformat": 4,
  "nbformat_minor": 0,
  "metadata": {
    "colab": {
      "provenance": []
    },
    "kernelspec": {
      "name": "python3",
      "display_name": "Python 3"
    },
    "language_info": {
      "name": "python"
    }
  },
  "cells": [
    {
      "cell_type": "markdown",
      "source": [
        "# Managing Environment Variables\n",
        "\n",
        "## Install your dependencies\n",
        "\n",
        "python-dotenv loads environment variables and getpass lets you enter your variables with out displaying the information or having it saved to the notebook when the next user uses it."
      ],
      "metadata": {
        "id": "lytc02WISTLR"
      }
    },
    {
      "cell_type": "code",
      "execution_count": null,
      "metadata": {
        "colab": {
          "base_uri": "https://localhost:8080/"
        },
        "id": "4PxlXbRCRbEc",
        "outputId": "6e85263a-c07b-4c8e-a8c1-57252492225f"
      },
      "outputs": [
        {
          "output_type": "stream",
          "name": "stdout",
          "text": [
            "Requirement already satisfied: python-dotenv in /usr/local/lib/python3.10/dist-packages (1.0.0)\n",
            "Requirement already satisfied: ipython in /usr/local/lib/python3.10/dist-packages (7.34.0)\n",
            "Requirement already satisfied: setuptools>=18.5 in /usr/local/lib/python3.10/dist-packages (from ipython) (67.7.2)\n",
            "Requirement already satisfied: jedi>=0.16 in /usr/local/lib/python3.10/dist-packages (from ipython) (0.19.1)\n",
            "Requirement already satisfied: decorator in /usr/local/lib/python3.10/dist-packages (from ipython) (4.4.2)\n",
            "Requirement already satisfied: pickleshare in /usr/local/lib/python3.10/dist-packages (from ipython) (0.7.5)\n",
            "Requirement already satisfied: traitlets>=4.2 in /usr/local/lib/python3.10/dist-packages (from ipython) (5.7.1)\n",
            "Requirement already satisfied: prompt-toolkit!=3.0.0,!=3.0.1,<3.1.0,>=2.0.0 in /usr/local/lib/python3.10/dist-packages (from ipython) (3.0.43)\n",
            "Requirement already satisfied: pygments in /usr/local/lib/python3.10/dist-packages (from ipython) (2.16.1)\n",
            "Requirement already satisfied: backcall in /usr/local/lib/python3.10/dist-packages (from ipython) (0.2.0)\n",
            "Requirement already satisfied: matplotlib-inline in /usr/local/lib/python3.10/dist-packages (from ipython) (0.1.6)\n",
            "Requirement already satisfied: pexpect>4.3 in /usr/local/lib/python3.10/dist-packages (from ipython) (4.9.0)\n",
            "Requirement already satisfied: parso<0.9.0,>=0.8.3 in /usr/local/lib/python3.10/dist-packages (from jedi>=0.16->ipython) (0.8.3)\n",
            "Requirement already satisfied: ptyprocess>=0.5 in /usr/local/lib/python3.10/dist-packages (from pexpect>4.3->ipython) (0.7.0)\n",
            "Requirement already satisfied: wcwidth in /usr/local/lib/python3.10/dist-packages (from prompt-toolkit!=3.0.0,!=3.0.1,<3.1.0,>=2.0.0->ipython) (0.2.12)\n"
          ]
        }
      ],
      "source": [
        "!pip install python-dotenv\n",
        "!pip install ipython"
      ]
    },
    {
      "cell_type": "markdown",
      "source": [
        "## Load your dependencies"
      ],
      "metadata": {
        "id": "hp6_L-EXSmUo"
      }
    },
    {
      "cell_type": "code",
      "source": [
        "from dotenv import load_dotenv\n",
        "import getpass\n",
        "import os"
      ],
      "metadata": {
        "id": "p8ylnB9KRlLN"
      },
      "execution_count": null,
      "outputs": []
    },
    {
      "cell_type": "markdown",
      "source": [
        "## Add store your environment variables into a python variable.\n",
        "You can just use this from here, it will be stored in the named variable you add it to on that particular runtime. However everytime you restart the runtime you will have to re-enter your variables which can become tedious."
      ],
      "metadata": {
        "id": "0aaDDxINSrVp"
      }
    },
    {
      "cell_type": "code",
      "source": [
        "SUPER_SECRET_API_KEY_OF_AWESOMENESS=getpass.getpass(\"Enter your secret: \")"
      ],
      "metadata": {
        "colab": {
          "base_uri": "https://localhost:8080/"
        },
        "id": "gdGD1rBCRrov",
        "outputId": "81a00c5e-b4ff-4cdb-99b8-cf3696fe3264"
      },
      "execution_count": null,
      "outputs": [
        {
          "name": "stdout",
          "output_type": "stream",
          "text": [
            "Enter your secret: ··········\n"
          ]
        }
      ]
    },
    {
      "cell_type": "markdown",
      "source": [
        "## Load your environment variables\n",
        "Grab our environment variables to manipulate"
      ],
      "metadata": {
        "id": "kILIB6UMTZps"
      }
    },
    {
      "cell_type": "code",
      "source": [
        "load_dotenv()"
      ],
      "metadata": {
        "colab": {
          "base_uri": "https://localhost:8080/"
        },
        "id": "SGtrreW1SHzc",
        "outputId": "11ed2437-2f88-43cc-f36d-c39109e03d5c"
      },
      "execution_count": null,
      "outputs": [
        {
          "output_type": "execute_result",
          "data": {
            "text/plain": [
              "False"
            ]
          },
          "metadata": {},
          "execution_count": 4
        }
      ]
    },
    {
      "cell_type": "markdown",
      "source": [
        "## Save your variables to your environment\n",
        "So instead we will save them into the environment as environment variables. Running this in your shell using the !export commmand will add it to your environment for this instance of the shell. If you are on a secure server and know no one has access to your ~/.bashrc you can just add this command there to automagically ad it when you log on, but if not its better to do it this way so that it will disappear when your shell session is over.\n",
        "To break this down, The first variables on the left of the = is your environment variable key the second value is the value or the data you want to save. Here we are using a string of the key to load the value into the environment dictionary."
      ],
      "metadata": {
        "id": "RVMmwsa8TCB0"
      }
    },
    {
      "cell_type": "code",
      "source": [
        "os.environ[\"SUPER_SECRET_VARIABLE\"] = SUPER_SECRET_API_KEY_OF_AWESOMENESS"
      ],
      "metadata": {
        "id": "VysihJsiR5lB"
      },
      "execution_count": null,
      "outputs": []
    },
    {
      "cell_type": "markdown",
      "source": [
        "## Access your environment variables\n",
        "\n",
        "os.getenv(\"YOUR_VARIABLE\") is how you access the environment variables. Similar to a dictionary you use a string value of the key to access the value of the variable. If you are familar with .get(\"KEY\") syntax it is the same."
      ],
      "metadata": {
        "id": "n5xIHsAvTgKo"
      }
    },
    {
      "cell_type": "code",
      "source": [
        "print(os.environ[\"SUPER_SECRET_VARIABLE\"])"
      ],
      "metadata": {
        "colab": {
          "base_uri": "https://localhost:8080/"
        },
        "id": "Hp3pbgeJSJkS",
        "outputId": "fe394cbe-7dba-47e3-d32c-21b1e9604235"
      },
      "execution_count": null,
      "outputs": [
        {
          "output_type": "stream",
          "name": "stdout",
          "text": [
            "secreters\n"
          ]
        }
      ]
    },
    {
      "cell_type": "markdown",
      "source": [
        "## Profit\n"
      ],
      "metadata": {
        "id": "K4znFU1QUUjN"
      }
    }
  ]
}