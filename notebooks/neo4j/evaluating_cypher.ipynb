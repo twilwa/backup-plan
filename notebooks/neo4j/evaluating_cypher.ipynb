{
 "cells": [
  {
   "cell_type": "code",
   "execution_count": 1,
   "id": "a7887670-0c56-44a7-9d82-39035fec541f",
   "metadata": {},
   "outputs": [],
   "source": [
    "import os\n",
    "import pandas as pd\n",
    "from typing import Set, Any, Union, Dict, List, Tuple, Hashable\n",
    "from langchain.graphs import Neo4jGraph\n",
    "from langchain.chat_models import ChatOpenAI\n",
    "from langchain.chains.graph_qa.cypher_utils import CypherQueryCorrector, Schema\n",
    "from langchain.prompts import ChatPromptTemplate\n",
    "from langchain.schema.runnable import RunnablePassthrough\n",
    "from langchain.schema.output_parser import StrOutputParser\n",
    "import seaborn as sns\n",
    "import matplotlib.pyplot as plt\n",
    "import numpy as np\n",
    "import textdistance\n",
    "from tqdm.auto import tqdm\n",
    "\n",
    "tqdm.pandas()"
   ]
  },
  {
   "cell_type": "code",
   "execution_count": 2,
   "id": "e2ef3cff-9aa3-4629-8677-7ca8c0127bf0",
   "metadata": {},
   "outputs": [],
   "source": [
    "def get_jw_distance(string1: str, string2: str) -> float:\n",
    "    \"\"\"\n",
    "    Calculate the Jaro-Winkler distance between two strings.\n",
    "\n",
    "    The Jaro-Winkler distance is a measure of similarity between two strings.\n",
    "    The score is normalized such that 0 equates to no similarity and\n",
    "    1 is an exact match.\n",
    "    \"\"\"\n",
    "    # Call the jaro_winkler function from the textdistance library.\n",
    "    return textdistance.jaro_winkler(string1, string2)"
   ]
  },
  {
   "cell_type": "code",
   "execution_count": 3,
   "id": "10ed7913-1e32-4f81-8688-9e889d668a96",
   "metadata": {},
   "outputs": [],
   "source": [
    "def rowsim(setL: Set, setR: Set) -> float:\n",
    "    \"\"\"\n",
    "    Calculate the similarity between two sets using Jaccard index formula.\n",
    "    \"\"\"\n",
    "    return len(setL.intersection(setR)) / len(setL.union(setR))\n",
    "\n",
    "\n",
    "def floatify(v: Any) -> Any:\n",
    "    \"\"\"\n",
    "    Attempts to convert a value to a float if it is a string and represents a\n",
    "    number, or recursively apply the conversion to elements within a list or dict.\n",
    "    \"\"\"\n",
    "    if isinstance(v, str):\n",
    "        return v\n",
    "    try:\n",
    "        f = float(v)\n",
    "        return f\n",
    "    except:\n",
    "        pass\n",
    "    if isinstance(v, list):\n",
    "        return [floatify(x) for x in v]\n",
    "    if isinstance(v, dict):\n",
    "        return {k: floatify(u) for k, u in v.items()}\n",
    "    return v\n",
    "\n",
    "\n",
    "def make_hashable(v: Any) -> Hashable:\n",
    "    \"\"\"\n",
    "    Convert a value to a hashable type (needed for set operations).\n",
    "    \"\"\"\n",
    "    float_v = floatify(v)\n",
    "    if not isinstance(float_v, Hashable):\n",
    "        return str(float_v)\n",
    "    else:\n",
    "        return float_v\n",
    "\n",
    "\n",
    "def make_alignment(dictL: List[Dict], dictR: List[Dict]) -> Tuple[List[Set], List[Set]]:\n",
    "    \"\"\"\n",
    "    Align rows from two lists of dictionaries based on their similarity.\n",
    "    \"\"\"\n",
    "    swap = len(dictL) > len(dictR)\n",
    "\n",
    "    # Forming set views from the list of dictionaries.\n",
    "    setViewsL = [{make_hashable(v) for k, v in row.items()} for row in dictL]\n",
    "    setViewsR = [{make_hashable(v) for k, v in row.items()} for row in dictR]\n",
    "    if swap:\n",
    "        setViewsL, setViewsR = setViewsR, setViewsL\n",
    "\n",
    "    for i in range(len(setViewsL)):\n",
    "        max_sim = -1\n",
    "        max_j = -1\n",
    "        for j in range(i, len(setViewsR)):\n",
    "            sim = rowsim(setViewsL[i], setViewsR[j])\n",
    "            if sim > max_sim:\n",
    "                max_j = j\n",
    "                max_sim = sim\n",
    "        tmp = setViewsR[i]\n",
    "        setViewsR[i] = setViewsR[max_j]\n",
    "        setViewsR[max_j] = tmp\n",
    "    if swap:\n",
    "        setViewsL, setViewsR = setViewsR, setViewsL\n",
    "    return setViewsL, setViewsR\n",
    "\n",
    "\n",
    "def df_sim(dictL: List[Dict], dictR: List[Dict], list_view: bool) -> float:\n",
    "    \"\"\"\n",
    "    Calculate the data frame similarity based on either the original row order or an alignment.\n",
    "    \"\"\"\n",
    "    if list_view:\n",
    "        # Original row order for lists of dictionaries\n",
    "        view_L = [row.values() for row in dictL]\n",
    "        view_R = [row.values() for row in dictR]\n",
    "    else:\n",
    "        view_L, view_R = make_alignment(dictL, dictR)\n",
    "\n",
    "    totalSetL = set()\n",
    "    for i, s in enumerate(view_L):\n",
    "        for elem in s:\n",
    "            totalSetL.add((i, make_hashable(elem)))\n",
    "    totalSetR = set()\n",
    "    for i, s in enumerate(view_R):\n",
    "        for elem in s:\n",
    "            totalSetR.add((i, make_hashable(elem)))\n",
    "    intersection = totalSetL.intersection(totalSetR)\n",
    "    union = totalSetL.union(totalSetR)\n",
    "\n",
    "    if len(union) == 0 and len(intersection) == 0:\n",
    "        return 1.0\n",
    "    elif len(union) == 0:\n",
    "        return 0.0\n",
    "\n",
    "    return len(intersection) / len(union)\n",
    "\n",
    "\n",
    "def df_sim_pair(pair_L, pair_R):\n",
    "    \"\"\"\n",
    "    Compute the Jaccard similarity of two data frames (lists of dictionaries),\n",
    "    taking into account the order of rows if indicated by the involved Cypher queries.\n",
    "    \"\"\"\n",
    "    cypher_L, dict_L = pair_L\n",
    "    cypher_R, dict_R = pair_R\n",
    "\n",
    "    return df_sim(dict_L, dict_R, \"order by\" in f\"{cypher_L} {cypher_R}\".lower())"
   ]
  },
  {
   "cell_type": "code",
   "execution_count": 4,
   "id": "2aec466b-1b00-494d-adb6-5ae68cee66c6",
   "metadata": {},
   "outputs": [
    {
     "name": "stdout",
     "output_type": "stream",
     "text": [
      "1.0\n"
     ]
    }
   ],
   "source": [
    "# Example usage (without ORDER BY)\n",
    "dict_a = [{\"id\": 2, \"value\": \"B\"}, {\"id\": 1, \"value\": \"A\"}]\n",
    "dict_b = [{\"id\": 1, \"value\": \"A\"}, {\"id\": 2, \"value\": \"B\"}]\n",
    "\n",
    "query_a = \"MATCH (n:TableA) RETURN n.id AS id, n.value AS value\"\n",
    "query_b = \"MATCH (n:TableB) RETURN n.id AS id, n.value AS value\"\n",
    "\n",
    "similarity_score = df_sim_pair((query_a, dict_a), (query_b, dict_b))\n",
    "print(similarity_score)"
   ]
  },
  {
   "cell_type": "code",
   "execution_count": 5,
   "id": "c2afb653-4127-4a2b-bed7-e68d4b715c00",
   "metadata": {},
   "outputs": [
    {
     "name": "stdout",
     "output_type": "stream",
     "text": [
      "0.6666666666666666\n"
     ]
    }
   ],
   "source": [
    "# Example usage (different results)\n",
    "dict_a = [{\"id\": 2, \"value\": \"B\"}, {\"id\": 1, \"value\": \"A\"}, {\"id\": 1, \"value\": \"A\"}]\n",
    "dict_b = [{\"id\": 1, \"value\": \"A\"}, {\"id\": 2, \"value\": \"B\"}]\n",
    "\n",
    "query_a = \"MATCH (n:TableA) RETURN n.id AS id, n.value AS value\"\n",
    "query_b = \"MATCH (n:TableB) RETURN n.id AS id, n.value AS value\"\n",
    "\n",
    "similarity_score = df_sim_pair((query_a, dict_a), (query_b, dict_b))\n",
    "print(similarity_score)"
   ]
  },
  {
   "cell_type": "code",
   "execution_count": 6,
   "id": "e849dc2d-ed0f-4e9d-9444-61f4f8285f25",
   "metadata": {},
   "outputs": [
    {
     "name": "stdout",
     "output_type": "stream",
     "text": [
      "0.0\n"
     ]
    }
   ],
   "source": [
    "# Example usage (with ORDER BY)\n",
    "dict_a = [{\"id\": 2, \"value\": \"B\"}, {\"id\": 1, \"value\": \"A\"}]\n",
    "dict_b = [{\"id\": 1, \"value\": \"A\"}, {\"id\": 2, \"value\": \"B\"}]\n",
    "\n",
    "query_a = \"MATCH (n:TableA) RETURN n.id AS id, n.value AS value ORDER BY n.id\"\n",
    "query_b = \"MATCH (n:TableB) RETURN n.id AS id, n.value AS value ORDER BY n.id\"\n",
    "\n",
    "similarity_score = df_sim_pair((query_a, dict_a), (query_b, dict_b))\n",
    "print(similarity_score)"
   ]
  },
  {
   "cell_type": "code",
   "execution_count": 7,
   "id": "26524db1-705a-467f-8213-9b49a8175793",
   "metadata": {},
   "outputs": [
    {
     "name": "stdout",
     "output_type": "stream",
     "text": [
      "0.0\n"
     ]
    }
   ],
   "source": [
    "# Example usage (with 1 ORDER BY)\n",
    "dict_a = [{\"id\": 2, \"value\": \"B\"}, {\"id\": 1, \"value\": \"A\"}]\n",
    "dict_b = [{\"id\": 1, \"value\": \"A\"}, {\"id\": 2, \"value\": \"B\"}]\n",
    "\n",
    "query_a = \"MATCH (n:TableA) RETURN n.id AS id, n.value AS value ORDER BY n.id\"\n",
    "query_b = \"MATCH (n:TableB) RETURN n.id AS id, n.value AS value\"\n",
    "\n",
    "similarity_score = df_sim_pair((query_a, dict_a), (query_b, dict_b))\n",
    "print(similarity_score)"
   ]
  },
  {
   "cell_type": "code",
   "execution_count": 8,
   "id": "b03633c5-2ccd-4c08-b000-3a21ebe497e2",
   "metadata": {},
   "outputs": [],
   "source": [
    "# Create a list of dictionaries, each representing a row in the DataFrame\n",
    "data = [\n",
    "    {\n",
    "        \"question\": \"How many movies were released in 1995?\",\n",
    "        \"cypher\": \"MATCH (m:Movie) WHERE m.Year = 1995 RETURN count(*) AS result\",\n",
    "    },\n",
    "    {\n",
    "        \"question\": \"Who directed the movie Inception?\",\n",
    "        \"cypher\": \"MATCH (m:Movie {title: 'Inception'})<-[:DIRECTED]-(d) RETURN d.name\",\n",
    "    },\n",
    "    {\n",
    "        \"question\": \"Which actors played in the movie Casino?\",\n",
    "        \"cypher\": \"MATCH (m:Movie {title: 'Casino'})<-[:ACTED_IN]-(a) RETURN a.name\",\n",
    "    },\n",
    "    {\n",
    "        \"question\": \"How many movies has Tom Hanks acted in?\",\n",
    "        \"cypher\": \"MATCH (a:Actor {name: 'Tom Hanks'})-[:ACTED_IN]->(m:Movie) RETURN count(m)\",\n",
    "    },\n",
    "    {\n",
    "        \"question\": \"List all the genres of the movie Schindler's List\",\n",
    "        \"cypher\": \"MATCH (m:Movie {title: 'Schindler\\\\'s List'})-[:IN_GENRE]->(g:Genre) RETURN g.name\",\n",
    "    },\n",
    "    {\n",
    "        \"question\": \"Which actors have worked in movies from both the comedy and action genres?\",\n",
    "        \"cypher\": \"MATCH (a:Actor)-[:ACTED_IN]->(:Movie)-[:IN_GENRE]->(g1:Genre), (a)-[:ACTED_IN]->(:Movie)-[:IN_GENRE]->(g2:Genre) WHERE g1.name = 'Comedy' AND g2.name = 'Action' RETURN DISTINCT a.name\",\n",
    "    },\n",
    "    {\n",
    "        \"question\": \"List movies that have an IMDb rating above 8.0 and have grossed over 100 million dollars.\",\n",
    "        \"cypher\": \"MATCH (m:Movie) WHERE m.imdbRating > 8.0 AND m.revenue > 100000000 RETURN m.title, m.imdbRating, m.revenue\",\n",
    "    },\n",
    "    {\n",
    "        \"question\": \"Find the top 3 movies with the highest budget in 1995.\",\n",
    "        \"cypher\": \"MATCH (m:Movie) WHERE m.year = 1995 RETURN m.title, m.budget ORDER BY m.budget DESC LIMIT 3\",\n",
    "    },\n",
    "    {\n",
    "        \"question\": \"Which directors have made movies with at least three different actors named 'John'?\",\n",
    "        \"cypher\": \"MATCH (d:Director)-[:DIRECTED]->(m:Movie)<-[:ACTED_IN]-(a:Actor) WHERE a.name STARTS WITH 'John' WITH d, COUNT(DISTINCT a) AS JohnsCount WHERE JohnsCount >= 3 RETURN d.name\",\n",
    "    },\n",
    "    {\n",
    "        \"question\": \"Identify movies where directors also played a role in the film.\",\n",
    "        \"cypher\": \"MATCH (p:Person)-[:DIRECTED]->(m:Movie), (p)-[:ACTED_IN]->(m) RETURN m.title, p.name\",\n",
    "    },\n",
    "    {\n",
    "        \"question\": \"What is the total box-office revenue of all movies released in the 'Fantasy' genre?\",\n",
    "        \"cypher\": \"MATCH (:Genre {name: 'Fantasy'})<-[:IN_GENRE]-(m:Movie) RETURN SUM(m.revenue) AS TotalRevenue\",\n",
    "    },\n",
    "    {\n",
    "        \"question\": \"List all users who rated the same movie more than once.\",\n",
    "        \"cypher\": \"MATCH (u:User)-[r:RATED]->(m:Movie) WITH u, m, COUNT(r) AS ratingsCount WHERE ratingsCount > 1 RETURN u.name, m.title, ratingsCount\",\n",
    "    },\n",
    "    {\n",
    "        \"question\": \"Find the actor with the highest number of movies in the database.\",\n",
    "        \"cypher\": \"MATCH (a:Actor)-[:ACTED_IN]->(m:Movie) RETURN a.name, COUNT(m) AS movieCount ORDER BY movieCount DESC LIMIT 1\",\n",
    "    },\n",
    "    {\n",
    "        \"question\": \"Which movies have a plot that mentions 'revenge' and were released after 2010?\",\n",
    "        \"cypher\": \"MATCH (m:Movie) WHERE m.plot CONTAINS 'revenge' AND m.year > 2010 RETURN m.title, m.released\",\n",
    "    },\n",
    "    {\n",
    "        \"question\": \"How many movies are there in each genre?\",\n",
    "        \"cypher\": \"MATCH (g:Genre)<-[:IN_GENRE]-(m:Movie) RETURN g.name, COUNT(m) AS movieCount\",\n",
    "    },\n",
    "    {\n",
    "        \"question\": \"What are the names of actors born in 'Dallas, Texas, USA' who have acted in Mystery movies?\",\n",
    "        \"cypher\": \"MATCH (a:Actor {bornIn: 'London'})-[:ACTED_IN]->(:Movie)-[:IN_GENRE]->(:Genre {name: 'Mystery'}) RETURN DISTINCT a.name\",\n",
    "    },\n",
    "    {\n",
    "        \"question\": \"Identify the movie with the longest runtime that was released in the 2000s.\",\n",
    "        \"cypher\": \"MATCH (m:Movie) WHERE m.year >= 2000 AND m.year < 2010 RETURN m.title, m.runtime ORDER BY m.runtime DESC LIMIT 1\",\n",
    "    },\n",
    "    {\n",
    "        \"question\": \"List the languages available in movies directed by 'Steven Spielberg'.\",\n",
    "        \"cypher\": \"MATCH (d:Director {name: 'Steven Spielberg'})-[:DIRECTED]->(m:Movie) UNWIND m.languages AS language RETURN DISTINCT language\",\n",
    "    },\n",
    "    {\n",
    "        \"question\": \"Which movie had the highest IMDb rating in the year Quentin Tarantino was born?\",\n",
    "        \"cypher\": \"MATCH (d:Director {name: 'Quentin Tarantino'}), (m:Movie) WHERE m.year = d.born.year RETURN m.title, m.imdbRating ORDER BY m.imdbRating DESC LIMIT 1\",\n",
    "    },\n",
    "    {\n",
    "        \"question\": \"What are the most common genres for movies with a budget over 200 million dollars?\",\n",
    "        \"cypher\": \"MATCH (m:Movie)-[:IN_GENRE]->(g:Genre) WHERE m.budget > 200000000 RETURN g.name, COUNT(*) AS genreCount ORDER BY genreCount DESC\",\n",
    "    },\n",
    "    {\n",
    "        \"question\": \"Which countries are represented by at least five movies in the database?\",\n",
    "        \"cypher\": \"MATCH (m:Movie) UNWIND m.countries AS country WITH country, COUNT(m) AS movieCount WHERE movieCount >= 5 RETURN country, movieCount\",\n",
    "    },\n",
    "    {\n",
    "        \"question\": \"List all movies that involve time travel in their plot.\",\n",
    "        \"cypher\": \"MATCH (m:Movie) WHERE m.plot CONTAINS 'time travel' RETURN m.title\",\n",
    "    },\n",
    "    {\n",
    "        \"question\": \"What are the average IMDb ratings for each year in the 21st century?\",\n",
    "        \"cypher\": \"MATCH (m:Movie) WHERE m.year >= 2000 AND m.year < 2100 WITH m.year AS year, AVG(m.imdbRating) AS avgRating RETURN year, avgRating ORDER BY year\",\n",
    "    },\n",
    "    {\n",
    "        \"question\": \"List top 10 actors with the most diverse genres in their filmography.\",\n",
    "        \"cypher\": \"MATCH (a:Actor)-[:ACTED_IN]->(:Movie)-[:IN_GENRE]->(g:Genre) WITH a, COUNT(DISTINCT g) AS genreDiversity ORDER BY genreDiversity DESC LIMIT 10 RETURN a.name, genreDiversity\",\n",
    "    },\n",
    "    {\n",
    "        \"question\": \"Which directors have never had a movie with a rating below 6.0?\",\n",
    "        \"cypher\": \"MATCH (d:Director)-[:DIRECTED]->(m:Movie) WITH d, MIN(m.imdbRating) AS lowestRating WHERE lowestRating >= 6.0 RETURN d.name, lowestRating\",\n",
    "    },\n",
    "    {\n",
    "        \"question\": \"How many movies have the keyword 'love' in the title and a runtime under 2 hours?\",\n",
    "        \"cypher\": \"MATCH (m:Movie) WHERE m.title CONTAINS 'love' AND m.runtime < 120 RETURN COUNT(m) AS numberOfMovies\",\n",
    "    },\n",
    "    {\n",
    "        \"question\": \"Return the list of movies that have a higher IMDb rating than any of 'Tom Hanks' movies.\",\n",
    "        \"cypher\": \"MATCH (m:Movie), (th:Actor {name: 'Tom Hanks'})-[:ACTED_IN]->(tomHanksMovie:Movie) WITH MAX(tomHanksMovie.imdbRating) AS maxTomHanksRating MATCH (m) WHERE m.imdbRating > maxTomHanksRating RETURN m.title, m.imdbRating\",\n",
    "    },\n",
    "]\n",
    "\n",
    "# Create the DataFrame\n",
    "df = pd.DataFrame(data)"
   ]
  },
  {
   "cell_type": "code",
   "execution_count": 9,
   "id": "73c48335-13cc-45b1-9a39-38ac9399171b",
   "metadata": {},
   "outputs": [
    {
     "data": {
      "text/html": [
       "<div>\n",
       "<style scoped>\n",
       "    .dataframe tbody tr th:only-of-type {\n",
       "        vertical-align: middle;\n",
       "    }\n",
       "\n",
       "    .dataframe tbody tr th {\n",
       "        vertical-align: top;\n",
       "    }\n",
       "\n",
       "    .dataframe thead th {\n",
       "        text-align: right;\n",
       "    }\n",
       "</style>\n",
       "<table border=\"1\" class=\"dataframe\">\n",
       "  <thead>\n",
       "    <tr style=\"text-align: right;\">\n",
       "      <th></th>\n",
       "      <th>question</th>\n",
       "      <th>cypher</th>\n",
       "    </tr>\n",
       "  </thead>\n",
       "  <tbody>\n",
       "    <tr>\n",
       "      <th>0</th>\n",
       "      <td>How many movies were released in 1995?</td>\n",
       "      <td>MATCH (m:Movie) WHERE m.Year = 1995 RETURN cou...</td>\n",
       "    </tr>\n",
       "    <tr>\n",
       "      <th>1</th>\n",
       "      <td>Who directed the movie Inception?</td>\n",
       "      <td>MATCH (m:Movie {title: 'Inception'})&lt;-[:DIRECT...</td>\n",
       "    </tr>\n",
       "    <tr>\n",
       "      <th>2</th>\n",
       "      <td>Which actors played in the movie Casino?</td>\n",
       "      <td>MATCH (m:Movie {title: 'Casino'})&lt;-[:ACTED_IN]...</td>\n",
       "    </tr>\n",
       "    <tr>\n",
       "      <th>3</th>\n",
       "      <td>How many movies has Tom Hanks acted in?</td>\n",
       "      <td>MATCH (a:Actor {name: 'Tom Hanks'})-[:ACTED_IN...</td>\n",
       "    </tr>\n",
       "    <tr>\n",
       "      <th>4</th>\n",
       "      <td>List all the genres of the movie Schindler's List</td>\n",
       "      <td>MATCH (m:Movie {title: 'Schindler\\'s List'})-[...</td>\n",
       "    </tr>\n",
       "  </tbody>\n",
       "</table>\n",
       "</div>"
      ],
      "text/plain": [
       "                                            question  \\\n",
       "0             How many movies were released in 1995?   \n",
       "1                  Who directed the movie Inception?   \n",
       "2           Which actors played in the movie Casino?   \n",
       "3            How many movies has Tom Hanks acted in?   \n",
       "4  List all the genres of the movie Schindler's List   \n",
       "\n",
       "                                              cypher  \n",
       "0  MATCH (m:Movie) WHERE m.Year = 1995 RETURN cou...  \n",
       "1  MATCH (m:Movie {title: 'Inception'})<-[:DIRECT...  \n",
       "2  MATCH (m:Movie {title: 'Casino'})<-[:ACTED_IN]...  \n",
       "3  MATCH (a:Actor {name: 'Tom Hanks'})-[:ACTED_IN...  \n",
       "4  MATCH (m:Movie {title: 'Schindler\\'s List'})-[...  "
      ]
     },
     "execution_count": 9,
     "metadata": {},
     "output_type": "execute_result"
    }
   ],
   "source": [
    "df.head()"
   ]
  },
  {
   "cell_type": "code",
   "execution_count": 10,
   "id": "5a4c447d-c4bc-435e-aa4c-766ddff7a8c8",
   "metadata": {},
   "outputs": [],
   "source": [
    "os.environ[\"NEO4J_URI\"] = \"\"\n",
    "os.environ[\"NEO4J_USERNAME\"] = \"\"\n",
    "os.environ[\"NEO4J_PASSWORD\"] = \"\"\n",
    "os.environ[\"OPENAI_API_KEY\"] = \"sk-\"\n",
    "\n",
    "graph = Neo4jGraph()\n",
    "llm = ChatOpenAI(model_name=\"gpt-4-1106-preview\", temperature=0)"
   ]
  },
  {
   "cell_type": "code",
   "execution_count": 11,
   "id": "40678298-b99a-4ed2-b1a8-283875ba9a5f",
   "metadata": {},
   "outputs": [],
   "source": [
    "# Generate Cypher statement based on natural language input\n",
    "cypher_template = \"\"\"Based on the Neo4j graph schema below, write a Cypher query that would answer the user's question.\n",
    "Return only Cypher statement, no backticks, no  nothing else.\n",
    "{schema}\n",
    "\n",
    "Question: {question}\n",
    "Cypher query:\"\"\"  # noqa: E501\n",
    "\n",
    "cypher_prompt = ChatPromptTemplate.from_messages(\n",
    "    [\n",
    "        (\n",
    "            \"system\",\n",
    "            \"Given an input question, convert it to a Cypher query. No pre-amble.\",\n",
    "        ),\n",
    "        (\"human\", cypher_template),\n",
    "    ]\n",
    ")\n",
    "\n",
    "cypher_chain = (\n",
    "    RunnablePassthrough.assign(\n",
    "        schema=lambda _: graph.get_schema,\n",
    "    )\n",
    "    | cypher_prompt\n",
    "    | llm.bind(stop=[\"\\nCypherResult:\"])\n",
    "    | StrOutputParser()\n",
    ")"
   ]
  },
  {
   "cell_type": "code",
   "execution_count": 12,
   "id": "ea27cf5f-ccd6-4686-8065-4e653a829234",
   "metadata": {},
   "outputs": [
    {
     "name": "stdout",
     "output_type": "stream",
     "text": [
      "MATCH (m:Movie) WHERE m.title CONTAINS 'love' AND m.runtime < 120 RETURN count(m) as NumberOfMovies\n"
     ]
    }
   ],
   "source": [
    "response = cypher_chain.invoke(\n",
    "    {\n",
    "        \"question\": \"How many movies have the keyword 'love' in the title and a runtime under 2 hours?\"\n",
    "    }\n",
    ")\n",
    "print(response)"
   ]
  },
  {
   "cell_type": "markdown",
   "id": "06807edc-385e-4a69-a530-1d2ca65488da",
   "metadata": {},
   "source": [
    "# Code for single run"
   ]
  },
  {
   "cell_type": "code",
   "execution_count": 13,
   "id": "5d7b9444-675f-458d-ac17-3041373ae02e",
   "metadata": {},
   "outputs": [
    {
     "data": {
      "application/vnd.jupyter.widget-view+json": {
       "model_id": "72201b5ccba84f8792ce3c5ee271c2d4",
       "version_major": 2,
       "version_minor": 0
      },
      "text/plain": [
       "  0%|          | 0/27 [00:00<?, ?it/s]"
      ]
     },
     "metadata": {},
     "output_type": "display_data"
    }
   ],
   "source": [
    "# Create empty lists to store the results of the new columns\n",
    "generated_cyphers = []\n",
    "true_datas = []\n",
    "eval_datas = []\n",
    "jaro_winklers = []\n",
    "pass_1s = []\n",
    "jaccards = []\n",
    "\n",
    "# Iterate over each row with tqdm to show a progress bar\n",
    "for index, row in tqdm(df.iterrows(), total=df.shape[0]):\n",
    "    generated_cypher = cypher_chain.invoke({\"question\": row[\"question\"]})\n",
    "    true_data = graph.query(row[\"cypher\"])\n",
    "\n",
    "    try:\n",
    "        eval_data = graph.query(generated_cypher)\n",
    "    except ValueError:\n",
    "        eval_data = [{\"id\": \"Cypher syntax error\"}]\n",
    "\n",
    "    jaro_winkler = get_jw_distance(row[\"cypher\"], generated_cypher)\n",
    "    pass_1 = (\n",
    "        1\n",
    "        if df_sim_pair((row[\"cypher\"], true_data), (generated_cypher, eval_data)) == 1\n",
    "        else 0\n",
    "    )\n",
    "    jaccard = df_sim_pair((row[\"cypher\"], true_data), (generated_cypher, eval_data))\n",
    "\n",
    "    # Append the results to their respective lists\n",
    "    generated_cyphers.append(generated_cypher)\n",
    "    true_datas.append(true_data)\n",
    "    eval_datas.append(eval_data)\n",
    "    jaro_winklers.append(jaro_winkler)\n",
    "    pass_1s.append(pass_1)\n",
    "    jaccards.append(jaccard)\n",
    "\n",
    "# Add the lists as columns to the DataFrame\n",
    "df[\"generated_cypher\"] = generated_cyphers\n",
    "df[\"true_data\"] = true_datas\n",
    "df[\"eval_data\"] = eval_datas\n",
    "df[\"jaro_winkler\"] = jaro_winklers\n",
    "df[\"pass_1\"] = pass_1s\n",
    "df[\"jaccard\"] = jaccards"
   ]
  },
  {
   "cell_type": "code",
   "execution_count": 14,
   "id": "0b9456f1-17aa-4e30-a9cb-95f65b3bd9bf",
   "metadata": {},
   "outputs": [
    {
     "name": "stdout",
     "output_type": "stream",
     "text": [
      "Question: Which directors have never had a movie with a rating below 6.0? \n",
      "\n",
      "True Cypher: MATCH (d:Director)-[:DIRECTED]->(m:Movie) WITH d, MIN(m.imdbRating) AS lowestRating WHERE lowestRating >= 6.0 RETURN d.name, lowestRating \n",
      "\n",
      "Generated Cypher MATCH (d:Director)-[:DIRECTED]->(m:Movie)\n",
      "WHERE NOT EXISTS {\n",
      "    MATCH (m)-[r:RATED]->()\n",
      "    WHERE r.rating < 6.0\n",
      "}\n",
      "RETURN DISTINCT d.name \n",
      "\n"
     ]
    }
   ],
   "source": [
    "row = df.iloc[24]\n",
    "# Print the desired information\n",
    "print(\"Question:\", row[\"question\"], \"\\n\")\n",
    "print(\"True Cypher:\", row[\"cypher\"], \"\\n\")\n",
    "print(\"Generated Cypher\", row[\"generated_cypher\"], \"\\n\")\n",
    "# print(\"True Data:\", row['true_data'], \"\\n\")\n",
    "# print(\"Eval Data:\", row['eval_data'])"
   ]
  },
  {
   "cell_type": "code",
   "execution_count": 15,
   "id": "364587cb-36b6-4863-9d82-765070b3314a",
   "metadata": {},
   "outputs": [
    {
     "data": {
      "image/png": "[encoded data removed]",
      "text/plain": [
       "<Figure size 1000x600 with 1 Axes>"
      ]
     },
     "metadata": {},
     "output_type": "display_data"
    }
   ],
   "source": [
    "# Calculate the averages of the metrics\n",
    "avg_jaro_winkler = df[\"jaro_winkler\"].mean()\n",
    "avg_pass_1 = df[\"pass_1\"].mean()\n",
    "avg_jaccard = df[\"jaccard\"].mean()\n",
    "\n",
    "# Prepare the data for visualization\n",
    "averages = pd.DataFrame(\n",
    "    {\n",
    "        \"Metric\": [\"Jaro-Winkler\", \"Pass 1\", \"Jaccard\"],\n",
    "        \"Average\": [avg_jaro_winkler, avg_pass_1, avg_jaccard],\n",
    "    }\n",
    ")\n",
    "\n",
    "# Create the bar plot\n",
    "plt.figure(figsize=(10, 6))\n",
    "barplot = sns.barplot(x=\"Metric\", y=\"Average\", data=averages)\n",
    "\n",
    "# Annotate the bars with the actual average values\n",
    "for p in barplot.patches:\n",
    "    barplot.annotate(\n",
    "        format(p.get_height(), \".2f\"),\n",
    "        (p.get_x() + p.get_width() / 2.0, p.get_height()),\n",
    "        ha=\"center\",\n",
    "        va=\"center\",\n",
    "        xytext=(0, 9),\n",
    "        textcoords=\"offset points\",\n",
    "    )\n",
    "\n",
    "# Set the title and labels\n",
    "plt.title(\"Evaluation of LLM generated Cypher statements\")\n",
    "plt.ylabel(\"Average\")\n",
    "plt.xlabel(\"Metric\")\n",
    "\n",
    "# Show the plot\n",
    "plt.show()"
   ]
  },
  {
   "cell_type": "markdown",
   "id": "5b006f65-e727-4a1d-9069-21e11b7e38d5",
   "metadata": {},
   "source": [
    "# Code for multiple runs"
   ]
  },
  {
   "cell_type": "code",
   "execution_count": 16,
   "id": "84233300-5d9e-409c-89c4-fe17f2fffddd",
   "metadata": {},
   "outputs": [
    {
     "name": "stdout",
     "output_type": "stream",
     "text": [
      "Starting run 1/3\n"
     ]
    },
    {
     "data": {
      "application/vnd.jupyter.widget-view+json": {
       "model_id": "2084bb77a486498d887f112f023d1468",
       "version_major": 2,
       "version_minor": 0
      },
      "text/plain": [
       "  0%|          | 0/27 [00:00<?, ?it/s]"
      ]
     },
     "metadata": {},
     "output_type": "display_data"
    },
    {
     "name": "stdout",
     "output_type": "stream",
     "text": [
      "Starting run 2/3\n"
     ]
    },
    {
     "data": {
      "application/vnd.jupyter.widget-view+json": {
       "model_id": "ca2f625e0cee4afda55b49d4c163d293",
       "version_major": 2,
       "version_minor": 0
      },
      "text/plain": [
       "  0%|          | 0/27 [00:00<?, ?it/s]"
      ]
     },
     "metadata": {},
     "output_type": "display_data"
    },
    {
     "name": "stdout",
     "output_type": "stream",
     "text": [
      "Starting run 3/3\n"
     ]
    },
    {
     "data": {
      "application/vnd.jupyter.widget-view+json": {
       "model_id": "cdffb9d2b56a415cbfaf8372b76c0e8b",
       "version_major": 2,
       "version_minor": 0
      },
      "text/plain": [
       "  0%|          | 0/27 [00:00<?, ?it/s]"
      ]
     },
     "metadata": {},
     "output_type": "display_data"
    }
   ],
   "source": [
    "# Number of runs\n",
    "num_runs = 3\n",
    "\n",
    "# A list to collect average metrics across all runs\n",
    "all_runs_averages = []\n",
    "\n",
    "# Perform 3 runs of evaluation\n",
    "for run in range(num_runs):\n",
    "    print(f\"Starting run {run+1}/{num_runs}\")\n",
    "    generated_cyphers = []\n",
    "    true_datas = []\n",
    "    eval_datas = []\n",
    "    jaro_winklers = []\n",
    "    pass_1s = []\n",
    "    jaccards = []\n",
    "\n",
    "    # Your data processing code with tqdm progress bar\n",
    "    for index, row in tqdm(df.iterrows(), total=df.shape[0]):\n",
    "        generated_cypher = cypher_chain.invoke({\"question\": row[\"question\"]})\n",
    "        true_data = graph.query(row[\"cypher\"])\n",
    "\n",
    "        try:\n",
    "            eval_data = graph.query(generated_cypher)\n",
    "        except ValueError:\n",
    "            eval_data = [{\"id\": \"Cypher syntax error\"}]\n",
    "\n",
    "        jaro_winkler = get_jw_distance(row[\"cypher\"], generated_cypher)\n",
    "        pass_1 = (\n",
    "            1\n",
    "            if df_sim_pair((row[\"cypher\"], true_data), (generated_cypher, eval_data))\n",
    "            == 1\n",
    "            else 0\n",
    "        )\n",
    "        jaccard = df_sim_pair((row[\"cypher\"], true_data), (generated_cypher, eval_data))\n",
    "\n",
    "        generated_cyphers.append(generated_cypher)\n",
    "        true_datas.append(true_data)\n",
    "        eval_datas.append(eval_data)\n",
    "        jaro_winklers.append(jaro_winkler)\n",
    "        pass_1s.append(pass_1)\n",
    "        jaccards.append(jaccard)\n",
    "\n",
    "    # Calculate the averages of the metrics for this run\n",
    "    avg_jaro_winkler = sum(jaro_winklers) / len(jaro_winklers)\n",
    "    avg_pass_1 = sum(pass_1s) / len(pass_1s)\n",
    "    avg_jaccard = sum(jaccards) / len(jaccards)\n",
    "\n",
    "    # Collect averages for this run\n",
    "    run_averages = {\n",
    "        \"Run\": run + 1,\n",
    "        \"Jaro-Winkler\": avg_jaro_winkler,\n",
    "        \"Pass 1\": avg_pass_1,\n",
    "        \"Jaccard\": avg_jaccard,\n",
    "    }\n",
    "    all_runs_averages.append(run_averages)"
   ]
  },
  {
   "cell_type": "code",
   "execution_count": 25,
   "id": "6dc6a143-2c8d-460c-aa32-271f441b5a0d",
   "metadata": {},
   "outputs": [
    {
     "data": {
      "image/png": "[encoded data removed]",
      "text/plain": [
       "<Figure size 1400x600 with 1 Axes>"
      ]
     },
     "metadata": {},
     "output_type": "display_data"
    }
   ],
   "source": [
    "# Convert collected metrics to a DataFrame\n",
    "all_runs_averages_df = pd.DataFrame(all_runs_averages)\n",
    "\n",
    "# Melt the DataFrame for better plotting\n",
    "all_runs_averages_melted = all_runs_averages_df.melt(\n",
    "    id_vars=[\"Run\"], var_name=\"Metric\", value_name=\"Average\"\n",
    ")\n",
    "\n",
    "# Create the bar plot with facet by runs\n",
    "plt.figure(figsize=(14, 6))\n",
    "barplot = sns.barplot(\n",
    "    x=\"Metric\", y=\"Average\", hue=\"Run\", data=all_runs_averages_melted, palette=\"muted\"\n",
    ")\n",
    "\n",
    "# Annotate the bars with the actual average values\n",
    "for p in barplot.patches:\n",
    "    barplot.annotate(\n",
    "        format(p.get_height(), \".2f\"),\n",
    "        (p.get_x() + p.get_width() / 2.0, p.get_height()),\n",
    "        ha=\"center\",\n",
    "        va=\"center\",\n",
    "        xytext=(0, 9),\n",
    "        textcoords=\"offset points\",\n",
    "    )\n",
    "\n",
    "# Set the title and labels\n",
    "plt.title(\"Evaluation of LLM generated Cypher statements over multiple runs\")\n",
    "plt.ylabel(\"Average Score\")\n",
    "plt.xlabel(\"Metric\")\n",
    "plt.legend(title=\"Run\")\n",
    "\n",
    "# Show the plot\n",
    "plt.show()"
   ]
  },
  {
   "cell_type": "code",
   "execution_count": null,
   "id": "4055890e-590f-4d7d-bfaa-1ceb20d4d968",
   "metadata": {},
   "outputs": [],
   "source": []
  }
 ],
 "metadata": {
  "kernelspec": {
   "display_name": "Python 3 (ipykernel)",
   "language": "python",
   "name": "python3"
  },
  "language_info": {
   "codemirror_mode": {
    "name": "ipython",
    "version": 3
   },
   "file_extension": ".py",
   "mimetype": "text/x-python",
   "name": "python",
   "nbconvert_exporter": "python",
   "pygments_lexer": "ipython3",
   "version": "3.8.18"
  }
 },
 "nbformat": 4,
 "nbformat_minor": 5
}
